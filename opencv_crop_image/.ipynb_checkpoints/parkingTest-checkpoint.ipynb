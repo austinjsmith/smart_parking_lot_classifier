{
 "cells": [
  {
   "cell_type": "code",
   "execution_count": 1,
   "id": "marked-convention",
   "metadata": {},
   "outputs": [],
   "source": [
    "import sys\n",
    "import cv2 \n",
    "import numpy as np\n",
    "import yaml\n",
    "from get_coordinates import GetCoordinates\n",
    "from a import MotionDetector"
   ]
  },
  {
   "cell_type": "code",
   "execution_count": null,
   "id": "unlike-investor",
   "metadata": {},
   "outputs": [],
   "source": []
  }
 ],
 "metadata": {
  "kernelspec": {
   "display_name": "Python 3",
   "language": "python",
   "name": "python3"
  },
  "language_info": {
   "codemirror_mode": {
    "name": "ipython",
    "version": 3
   },
   "file_extension": ".py",
   "mimetype": "text/x-python",
   "name": "python",
   "nbconvert_exporter": "python",
   "pygments_lexer": "ipython3",
   "version": "3.8.7"
  }
 },
 "nbformat": 4,
 "nbformat_minor": 5
}
